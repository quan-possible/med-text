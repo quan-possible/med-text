{
 "cells": [
  {
   "cell_type": "code",
   "execution_count": 19,
   "metadata": {},
   "outputs": [],
   "source": [
    "import pandas as pd\n",
    "import numpy as np"
   ]
  },
  {
   "cell_type": "code",
   "execution_count": null,
   "metadata": {},
   "outputs": [],
   "source": []
  },
  {
   "cell_type": "code",
   "execution_count": 21,
   "metadata": {},
   "outputs": [
    {
     "name": "stdout",
     "output_type": "stream",
     "text": [
      "<class 'pandas.core.frame.DataFrame'>\n",
      "Index: 1303 entries, \" Reactive \" or activated stroma characterizes many malignancies including breast cancers . Recently , we isolated a reactive mouse mammary gland stromal cell line called BJ3Z . These cells express alpha-smooth muscle actin and stromal cell-derived factor 1 ( SDF-1 ) and are tumorigenic when injected into mice . Here we show that , in vivo , BJ3Z cells influence the angiogenesis and proliferation of xenografted estrogen receptor ( ER)-positive MCF-7 human breast cancer cell-derived solid tumors . The growth-promoting effects of BJ3Z cells are equivalent to those of estradiol ( E(2) ) . BJ3Z cells also increase the proliferation of normal mouse mammary luminal cells adjacent to tumors . In vitro , BJ3Z cells reorganize and increase the proliferation of cocultured malignant MCF-7 and normal human breast MCF10A cells grown as organoids in three-dimensional culture . The effects of BJ3Z cells on MCF-7 cells are equivalent to those of E(2) . In contrast , BJ3Z cells do not alter the growth of highly aggressive ER-negative MDA-MB-231 human breast cancer cells . We show that BJ3Z cells secrete vascular endothelial growth factor ( VEGF ) . The growth of MCF-7 organoids induced by BJ3Z can be inhibited by antagonists of VEGF and SDF-1 . Conversely , recombinant VEGF stimulates the proliferation of MCF-7 , but not MDA-MB-231 , organoids . We conclude that , in addition to angiogenesis , VEGF released by activated stroma increases the growth of ER-positive malignant epithelial cells and of adjacent normal epithelium . Because activated stroma can substitute for E(2) and fosters hormone-independent growth of ER-positive tumors , we suggest that breast cancers exhibiting intrinsic hormone resistance may respond to antiangiogenic therapies . to p53 plays an important role in regulating a wide variety of cellular processes , such as cell cycle arrest and/or apoptosis . Dysfunction of p53 is frequently associated with several pathologies , such as cancer and neurodegenerative diseases . In recent years substantial progress has been made in developing novel p53-activating molecules . Importantly , modulation of p53 interaction with its main inhibitor , Mdm2 , has been highlighted as a promising therapy target . In this regard , bimolecular fluorescence complementation ( BiFC ) analysis , by providing direct visualization of protein interactions in living cells , offers a straightforward method to identify potential modulators of protein interactions . In this study , we developed a simple and robust Venus-based BiFC system to screen for modulators of p53-p53 and p53-Mdm2 interactions in live mammalian cells . We used nutlin-3 , a well-known disruptor of p53-Mdm2 interaction , to validate the specificity of the assay . The reduction of BiFC signal mediated by nutlin-3 was correlated with an increase in Puma transactivation , PARP cleavage , and cell death . Finally , this novel BiFC approach was exploited to identify potential modulators of p53-Mdm2 complex formation among a commercially available chemical library of 33 protein phosphatase inhibitors . Our results constitute \" proof-of-concept \" that this model has strong potential as an alternative to traditional target-based drug discovery strategies . Identification of new modulators of p53-p53 and p53-Mdm2 interactions will be useful to achieve synergistic drug efficacy with currently used anti-tumor therapies .\n",
      "Data columns (total 10 columns):\n",
      " #   Column   Non-Null Count  Dtype\n",
      "---  ------   --------------  -----\n",
      " 0   label-1  1303 non-null   int64\n",
      " 1   label-2  1303 non-null   int64\n",
      " 2   label-3  1303 non-null   int64\n",
      " 3   label-4  1303 non-null   int64\n",
      " 4   label-5  1303 non-null   int64\n",
      " 5   label-6  1303 non-null   int64\n",
      " 6   label-7  1303 non-null   int64\n",
      " 7   label-8  1303 non-null   int64\n",
      " 8   label-9  1303 non-null   int64\n",
      " 9   label-a  1303 non-null   int64\n",
      "dtypes: int64(10)\n",
      "memory usage: 112.0+ KB\n"
     ]
    }
   ],
   "source": [
    "df = pd.read_csv(\"hoc_train.csv\",sep='\\t', index_col=0)\n",
    "df.info()"
   ]
  },
  {
   "cell_type": "code",
   "execution_count": 22,
   "metadata": {},
   "outputs": [
    {
     "data": {
      "text/plain": [
       "label-1    1303\n",
       "label-2    1303\n",
       "label-3    1303\n",
       "label-4    1303\n",
       "label-5    1303\n",
       "label-6    1303\n",
       "label-7    1303\n",
       "label-8    1303\n",
       "label-9    1303\n",
       "label-a    1303\n",
       "dtype: int64"
      ]
     },
     "execution_count": 22,
     "metadata": {},
     "output_type": "execute_result"
    }
   ],
   "source": [
    "df.count()"
   ]
  },
  {
   "cell_type": "code",
   "execution_count": null,
   "metadata": {},
   "outputs": [],
   "source": []
  },
  {
   "cell_type": "code",
   "execution_count": null,
   "metadata": {},
   "outputs": [],
   "source": []
  },
  {
   "cell_type": "code",
   "execution_count": null,
   "metadata": {},
   "outputs": [],
   "source": []
  },
  {
   "cell_type": "code",
   "execution_count": null,
   "metadata": {},
   "outputs": [],
   "source": []
  },
  {
   "cell_type": "code",
   "execution_count": 3,
   "metadata": {},
   "outputs": [
    {
     "data": {
      "text/html": [
       "<div>\n",
       "<style scoped>\n",
       "    .dataframe tbody tr th:only-of-type {\n",
       "        vertical-align: middle;\n",
       "    }\n",
       "\n",
       "    .dataframe tbody tr th {\n",
       "        vertical-align: top;\n",
       "    }\n",
       "\n",
       "    .dataframe thead th {\n",
       "        text-align: right;\n",
       "    }\n",
       "</style>\n",
       "<table border=\"1\" class=\"dataframe\">\n",
       "  <thead>\n",
       "    <tr style=\"text-align: right;\">\n",
       "      <th></th>\n",
       "      <th>TEXT</th>\n",
       "      <th>LABEL</th>\n",
       "    </tr>\n",
       "  </thead>\n",
       "  <tbody>\n",
       "    <tr>\n",
       "      <th>0</th>\n",
       "      <td>catheterization laboratory events hospital out...</td>\n",
       "      <td>4</td>\n",
       "    </tr>\n",
       "    <tr>\n",
       "      <th>1</th>\n",
       "      <td>renal abscess children. three cases renal absc...</td>\n",
       "      <td>5</td>\n",
       "    </tr>\n",
       "    <tr>\n",
       "      <th>2</th>\n",
       "      <td>hyperplastic polyps seen sigmoidoscopy markers...</td>\n",
       "      <td>2</td>\n",
       "    </tr>\n",
       "    <tr>\n",
       "      <th>3</th>\n",
       "      <td>subclavian artery innominate vein fistula inse...</td>\n",
       "      <td>5</td>\n",
       "    </tr>\n",
       "    <tr>\n",
       "      <th>4</th>\n",
       "      <td>effect local inhibition gamma-aminobutyric aci...</td>\n",
       "      <td>4</td>\n",
       "    </tr>\n",
       "  </tbody>\n",
       "</table>\n",
       "</div>"
      ],
      "text/plain": [
       "                                                TEXT  LABEL\n",
       "0  catheterization laboratory events hospital out...      4\n",
       "1  renal abscess children. three cases renal absc...      5\n",
       "2  hyperplastic polyps seen sigmoidoscopy markers...      2\n",
       "3  subclavian artery innominate vein fistula inse...      5\n",
       "4  effect local inhibition gamma-aminobutyric aci...      4"
      ]
     },
     "execution_count": 3,
     "metadata": {},
     "output_type": "execute_result"
    }
   ],
   "source": [
    "mtc = pd.read_csv(\"mtc.csv\", sep=\"\\t\", index_col=0)\n",
    "mtc.head()"
   ]
  },
  {
   "cell_type": "code",
   "execution_count": null,
   "metadata": {},
   "outputs": [],
   "source": []
  },
  {
   "cell_type": "code",
   "execution_count": null,
   "metadata": {},
   "outputs": [],
   "source": []
  },
  {
   "cell_type": "code",
   "execution_count": 2,
   "metadata": {},
   "outputs": [
    {
     "data": {
      "text/html": [
       "<div>\n",
       "<style scoped>\n",
       "    .dataframe tbody tr th:only-of-type {\n",
       "        vertical-align: middle;\n",
       "    }\n",
       "\n",
       "    .dataframe tbody tr th {\n",
       "        vertical-align: top;\n",
       "    }\n",
       "\n",
       "    .dataframe thead th {\n",
       "        text-align: right;\n",
       "    }\n",
       "</style>\n",
       "<table border=\"1\" class=\"dataframe\">\n",
       "  <thead>\n",
       "    <tr style=\"text-align: right;\">\n",
       "      <th></th>\n",
       "      <th>TEXT</th>\n",
       "      <th>LABEL</th>\n",
       "    </tr>\n",
       "  </thead>\n",
       "  <tbody>\n",
       "    <tr>\n",
       "      <th>0</th>\n",
       "      <td>Ghrelin was identified in the stomach as an en...</td>\n",
       "      <td>33</td>\n",
       "    </tr>\n",
       "    <tr>\n",
       "      <th>1</th>\n",
       "      <td>Leptin is thought to be involved in febrigenic...</td>\n",
       "      <td>0</td>\n",
       "    </tr>\n",
       "    <tr>\n",
       "      <th>2</th>\n",
       "      <td>PURPOSE The epidermal growth factor receptor (...</td>\n",
       "      <td>1</td>\n",
       "    </tr>\n",
       "    <tr>\n",
       "      <th>3</th>\n",
       "      <td>Adoptive transfer of immunity against hepatiti...</td>\n",
       "      <td>2</td>\n",
       "    </tr>\n",
       "    <tr>\n",
       "      <th>4</th>\n",
       "      <td>The secretion of immunosuppressive factors lik...</td>\n",
       "      <td>28</td>\n",
       "    </tr>\n",
       "    <tr>\n",
       "      <th>5</th>\n",
       "      <td>To characterize the impact of increased produc...</td>\n",
       "      <td>24</td>\n",
       "    </tr>\n",
       "    <tr>\n",
       "      <th>6</th>\n",
       "      <td>The involvement of PRL in regulating monocyte/...</td>\n",
       "      <td>19</td>\n",
       "    </tr>\n",
       "    <tr>\n",
       "      <th>7</th>\n",
       "      <td>Primary fibroblasts respond to activated H-RAS...</td>\n",
       "      <td>9</td>\n",
       "    </tr>\n",
       "    <tr>\n",
       "      <th>8</th>\n",
       "      <td>Oncostatin M ( OSM ) , an interleukin-6 type c...</td>\n",
       "      <td>1</td>\n",
       "    </tr>\n",
       "    <tr>\n",
       "      <th>9</th>\n",
       "      <td>p53 is a tumor suppressor gene that is mutated...</td>\n",
       "      <td>24</td>\n",
       "    </tr>\n",
       "  </tbody>\n",
       "</table>\n",
       "</div>"
      ],
      "text/plain": [
       "                                                TEXT  LABEL\n",
       "0  Ghrelin was identified in the stomach as an en...     33\n",
       "1  Leptin is thought to be involved in febrigenic...      0\n",
       "2  PURPOSE The epidermal growth factor receptor (...      1\n",
       "3  Adoptive transfer of immunity against hepatiti...      2\n",
       "4  The secretion of immunosuppressive factors lik...     28\n",
       "5  To characterize the impact of increased produc...     24\n",
       "6  The involvement of PRL in regulating monocyte/...     19\n",
       "7  Primary fibroblasts respond to activated H-RAS...      9\n",
       "8  Oncostatin M ( OSM ) , an interleukin-6 type c...      1\n",
       "9  p53 is a tumor suppressor gene that is mutated...     24"
      ]
     },
     "execution_count": 2,
     "metadata": {},
     "output_type": "execute_result"
    }
   ],
   "source": [
    "hoc = pd.read_csv(\"hoc_train.csv\", sep='\\t', index_col=0)\n",
    "\n",
    "hoc.head(10)"
   ]
  },
  {
   "cell_type": "code",
   "execution_count": 11,
   "metadata": {},
   "outputs": [
    {
     "data": {
      "text/plain": [
       "36"
      ]
     },
     "execution_count": 11,
     "metadata": {},
     "output_type": "execute_result"
    }
   ],
   "source": [
    "len(hoc.LABEL.unique())"
   ]
  },
  {
   "cell_type": "code",
   "execution_count": 11,
   "metadata": {},
   "outputs": [],
   "source": [
    "df[['text','labels']].to_csv('hoc_sample.csv', index=False)"
   ]
  },
  {
   "cell_type": "code",
   "execution_count": 7,
   "metadata": {
    "collapsed": true,
    "jupyter": {
     "outputs_hidden": true
    }
   },
   "outputs": [
    {
     "name": "stderr",
     "output_type": "stream",
     "text": [
      "<ipython-input-7-a4ee4ccc9dc9>:2: SettingWithCopyWarning: \n",
      "A value is trying to be set on a copy of a slice from a DataFrame.\n",
      "Try using .loc[row_indexer,col_indexer] = value instead\n",
      "\n",
      "See the caveats in the documentation: https://pandas.pydata.org/pandas-docs/stable/user_guide/indexing.html#returning-a-view-versus-a-copy\n",
      "  df['text'] = df['TEXT'].astype(str)\n",
      "<ipython-input-7-a4ee4ccc9dc9>:3: SettingWithCopyWarning: \n",
      "A value is trying to be set on a copy of a slice from a DataFrame.\n",
      "Try using .loc[row_indexer,col_indexer] = value instead\n",
      "\n",
      "See the caveats in the documentation: https://pandas.pydata.org/pandas-docs/stable/user_guide/indexing.html#returning-a-view-versus-a-copy\n",
      "  df['labels'] = df['LABEL']\n"
     ]
    },
    {
     "data": {
      "text/plain": [
       "[{'text': 'Ghrelin was identified in the stomach as an endogenous ligand specific for the growth hormone secretagogue receptor ( GHS-R ) .\\nGHS-R is found in various tissues , but its function is unknown .\\nHere we show that GHS-R is found in hepatoma cells .\\nExposure of these cells to ghrelin caused up-regulation of several insulin-induced activities including tyrosine phosphorylation of insulin receptor substrate-1 ( IRS-1 ) , association of the adapter molecule growth factor receptor-bound protein 2 with IRS-1 , mitogen-activated protein kinase activity , and cell proliferation .\\nUnlike insulin , ghrelin inhibited Akt kinase activity as well as up-regulated gluconeogenesis .\\nThese findings raise the possibility that ghrelin modulates insulin activities in humans .\\n',\n",
       "  'labels': 33},\n",
       " {'text': 'Leptin is thought to be involved in febrigenic signaling from the periphery to the brain .\\nZucker obese rats have a so-called fatty mutation in the leptin receptor gene and express a dysfunctional protein .\\nStudies comparing the fever responses of fatty ( fa/fa ) rats and of their lean ( Fa/Fa and Fa/fa ) counterparts yield contradictory results .\\nTo resolve these contradictions , we evaluated the effect of fatty mutation on infectious and stress-associated fevers at thermoneutrality ( 29 degrees C ) and in a cool environment ( 20 degrees C ) .\\nZucker fa/fa and Fa/ ? rats were infused with Escherichia coli lipopolysaccharide ( LPS ; 10 microg/kg ) through a jugular catheter ( infectious fever ) or with saline through the catheter ( control ) or received a painful intramuscular injection of saline ( stress fever ) .\\nAt thermoneutrality , the colonic temperature ( T(c) ) responses of fatty rats to all stimuli tested were no different from the responses of lean rats .\\nIn a cool environment , T(c) responses of fatty rats to all stimuli were degrees C lower than those of lean rats .\\nThe observed attenuation of LPS-induced and stress-associated fevers in Zucker fatty rats in the cold agrees with the literature data showing that brown adipose tissue ( the major heat production effector ) is morphologically and functionally defective in these rats .\\nThe normal febrile responses of fatty Zucker rats to pyrogenic stimuli at thermoneutrality indicate that fatty mutation does not interrupt febrigenic signaling from the periphery to the brain .\\n',\n",
       "  'labels': 0},\n",
       " {'text': 'PURPOSE The epidermal growth factor receptor ( EGFR ) tyrosine kinase inhibitor ZD1839 ( Iressa ; AstraZeneca Pharmaceuticals , Alderley Park , United Kingdom ) is under development as an anticancer agent .\\nWe studied the pharmacodynamic effects of ZD1839 on EGFR in the skin , an EGFR-dependent tissue , in cancer patients participating in ZD1839 phase I clinical trials .\\nPATIENTS AND METHODS We studied 104 pre- and/or on-ZD1839 therapy ( approximately at day 28 of therapy ) skin biopsies from 65 patients receiving escalating doses of daily oral ZD1839 .\\nWe measured ZD1839 effects on EGFR activation by immunohistochemistry using an antibody specific for the activated ( phosphorylated ) EGFR .\\nEffects on receptor signaling ( activated mitogen-activated protein kinase [ MAPK] ) , proliferation , p27(KIP1) , and maturation were also assessed .\\nRESULTS Histopathologically , the stratum corneum of the epidermis was thinner during therapy ( P <.001 ) .\\nIn hair follicles , prominent keratin plugs and microorganisms were found in dilated infundibula .\\nZD1839 suppressed EGFR phosphorylation in all EGFR-expressing cells ( P <.001 ) .\\nIn addition , ZD1839 inhibited MAPK activation ( P <.001 ) and reduced keratinocyte proliferation index ( P <.001 ) .\\nConcomitantly , ZD1839 increased the expression of p27(KIP1) ( P <.001 ) and maturation markers ( P <.001 ) and increased apoptosis ( P <.001 ) .\\nThese effects were observed at all dose levels , before reaching dose-limiting toxicities .\\nCONCLUSION ZD1839 inhibits EGFR activation and affects downstream receptor-dependent processes in vivo .\\nThese effects were profound at doses well below the one producing unacceptable toxicity , a finding that strongly supports pharmacodynamic assessments to select optimal doses instead of a maximum-tolerated dose for definitive efficacy and safety trials .\\n',\n",
       "  'labels': 1},\n",
       " {'text': 'Adoptive transfer of immunity against hepatitis B surface antigen ( HBsAg ) was previously shown to facilitate suppression of experimental human hepatocellular carcinoma ( HCC ) expressing HBsAg in athymic mice .\\nWe have shown that oral tolerance induces antigen-specific immune suppression of HBsAg by feeding hepatitis B virus ( HBV ) antigens .\\nIn the present study we evaluated the effect of oral tolerance induction toward HBV or HCC antigens on the growth of experimental HCC-expressing HBsAg in mice .\\nTolerance induction was induced in mice by 5 oral feedings of 1 microg HBV antigens or HCC-extracted proteins ( 50 microg protein ) before vaccination with recombinant HBsAg .\\nSplenocytes ( 2 x 10(6) ) from these mice were transferred to sublethally irradiated athymic BALB/c mice previously transplanted subcutaneously with 10(7) human hepatoma Hep3B cells .\\nAdoptive transfer of splenocytes immunized toward HBsAg prevented tumor growth .\\nAt 4 weeks after splenocyte transplantation , tumor volume and serum alpha-fetoprotein ( AFP ) levels in athymic mice transplanted with splenocytes immunized to HBsAg were undetectable as compared with 1,048 +/- 738 mm(3) and 2,500 +/- 1,431 ng/ml in recipients of na�ve splenocytes ( p < 0.0001 ) .\\nMice receiving splenocytes tolerized toward Hep3B cells , as manifested by reduced serum HBs antibody levels , reduced HBV-specific stimulation index and reduced HBV-specific-IFN gamma spot-forming cells , had early tumor growth evident by elevated AFP serum levels , weight loss and mortality , which were suppressed at 6 weeks .\\nMice transplanted with splenocytes tolerized toward HBV antigens did not have direct evidence of tumor growth .\\nInduction of oral tolerance toward HCC-extracted proteins enabled transient tumor growth in this model .\\nThis effect was mediated through downregulation of the anti-HBV immune response .\\n',\n",
       "  'labels': 2},\n",
       " {'text': 'The secretion of immunosuppressive factors like transforming growth factor-beta ( TGF-beta ) by tumor cells has been recognized as one of the mechanisms involved in tumor immunological escape .\\nThis study aimed to examine whether dendritic cell ( DC ) immunization could reverse TGF-beta-induced immunosuppression by simulating the in vivo interaction among infused DCs , host T cells , and tumor-secreted TGF-beta in an in vitro study .\\nWe found that both immature and mature DCs were relatively resistant to TGF-beta .\\nThe addition of TGF-beta to naive human CD4+ T cells , which are required by genetically modified DC to elicit antitumor immunity , resulted in their hyporesponsiveness to DC stimulation in a dose-dependent manner .\\nWhen activated by allogeneic DCs in the presence of TGF-beta , CD4+ T cells displayed a reduced capacity to proliferate .\\nMore importantly , activated CD4+ T cells induced by DC stimulation were very sensitive to TGF-beta , and this susceptibility was enhanced by their previous exposure to TGF-beta .\\nThe underlying mechanism was linked to TGF-beta-induced apoptosis of activated T cells .\\nHowever , the presence of stimulation from DC or antibodies to CD3 plus CD28 could partly reverse the immunosuppressive effect of TGF-beta on activated CD4+ T cells .\\nTaken together , our results indicate that the efficacy of DC immunization may be impaired by tumor-derived TGF-beta .\\n',\n",
       "  'labels': 28},\n",
       " {'text': \"To characterize the impact of increased production of TGF-beta in a xenograft model of human breast cancer , TGF-beta-responsive MDA-231 cells were genetically modified by stable transfection so as to increase their production of active TGF-beta1 .\\nCompared with control cells , cells that produced increased amounts of TGF-beta proliferated in vitro more slowly .\\nIn vivo , however , tumors derived from these cells exhibited increased proliferation and grew at an accelerated pace .\\nTo evaluate the role of autocrine TGF-beta signaling , cells were also transfected with a dominant-negative truncated type II TGF-beta receptor ( TbetaRII ) .\\nDisruption of autocrine TGF-beta signaling in the TGF-beta-overexpressing cells reduced their in vivo growth rate .\\nCo-inoculation of Matrigel with the TGF-beta-overexpressing cells expressing the truncated TbetaRII compensated for their diminished in vivo growth capacity , compared with the TGF-beta-overexpressing cells with an intact autocrine loop .\\nTissue invasion by the tumor was a distinctive feature of the TGF-beta-overexpressing cells , whether or not the autocrine loop was intact .\\nFurthermore , tumors derived from TGF-beta-overexpressing cells , irrespective of the status of the autocrine TGF-beta-signaling pathway , had a higher incidence of lung metastasis .\\nConsistent with the suggestion that TGF-beta's enhancement of invasion and metastasis is paracrine-based , we observed no significant differences among the cell clones in an in vitro invasion assay .\\nThus , in this experimental model system in vitro assays of cell proliferation and invasion do not accurately reflect in vivo observations , perhaps due to autocrine and paracrine effects of TGF-beta that influence the important in vivo-based phenomena of tumor growth , invasion , and metastasis .\\n\",\n",
       "  'labels': 24},\n",
       " {'text': 'The involvement of PRL in regulating monocyte/macrophage functions is suggested by the presence of PRL-Rs in these cells .\\nHere , we show that PRL , though it failed to activate mouse peritoneal resident macrophages ( RMs ) , acted as a second signal and activated mouse peritoneal inflammatory macrophages ( EMs ) to a tumoricidal state .\\nThe cytotoxicity of mouse tumor-associated macrophages ( TAMs ) isolated at day 1 of tumor ( Ehrlich ascites carcinoma , EAC ) growth was enhanced by PRL .\\nHowever , with progression of tumor growth , TAMs became nonresponsive to the hormone .\\nPRL-induced killing of P815 target cells by EMs and TAMs was independent of TNF but correlated with the hormone-induced augmentation of NO2(-) and O2(-) release in these macrophages .\\nAdministration of PRL in vivo inhibited EAC growth and augmented NO2(-) release by TAMs .\\nPRL synergized with the TH1 cytokine IFN-gamma , a known activator of macrophages , in inducing tumor killing and release of NO2(-) from EMs and TAMs .\\nThe hormone might activate macrophages at least partially , through the release of IFN-gamma as anti-IFN-gamma blocked IFN-gamma- as well as PRL-induced cytotoxicity in EMs .\\nThe TH2 cytokine IL-4 suppressed PRL-induced activation of macrophages .\\nPRL induced release of IL-12 from EMs also , which suggested that the hormone might drive the TH1 response through IL-12 .\\nOur observations further suggest that PRL alone and in synergy with IFN-gamma , released through induction of IL-12 , may generate tumoricidal macrophages and thus regulate the antitumor immune response of tumor hosts .\\n',\n",
       "  'labels': 19},\n",
       " {'text': \"Primary fibroblasts respond to activated H-RAS(V12) by undergoing premature arrest , which resembles replicative senescence .\\nThis irreversible ' fail-safe mechanism ' requires p19(ARF) , p53 and the Retinoblastoma ( Rb ) family : upon their disruption , RAS(V12)-expressing cells fail to undergo senescence and continue to proliferate .\\nSimilarly , co-expression of oncogenes such as c-MYC or E1A rescues RAS(V12)-induced senescence .\\nTo identify novel genes that allow escape from RAS(V12)-induced senescence , we designed an unbiased , retroviral complementary DNA library screen .\\nWe report on the identification of DRIL1 , the human orthologue of the mouse Bright and Drosophila dead ringer transcriptional regulators .\\nDRIL1 renders primary murine fibroblasts unresponsive to RAS(V12)-induced anti-proliferative signalling by p19(ARF)/p53/p21(CIP1) , as well as by p16(INK4a) .\\nIn this way , DRIL1 not only rescues RAS(V12)-induced senescence but also causes these fibroblasts to become highly oncogenic .\\nFurthermore , DRIL1 immortalizes mouse fibroblasts , in the presence of high levels of p16(INK4a) .\\nImmortalization by DRIL1 , whose product binds the pRB-controlled transcription factor E2F1 ( ref. 8 ) , is correlated with induction of E2F1 activity .\\nCorrespondingly , DRIL1 induces the E2F1 target Cyclin E1 , overexpression of which is sufficient to trigger escape from senescence .\\nThus , DRIL1 disrupts cellular protection against RAS(V12)-induced proliferation downstream of the p19(ARF)/p53 pathway .\\n\",\n",
       "  'labels': 9},\n",
       " {'text': 'Oncostatin M ( OSM ) , an interleukin-6 type cytokine , acts via the gp130 signaling receptor to inhibit proliferation and induce differentiation of breast cancer cells .\\nEGF , a mitogen for breast cells , signals via EGFR/ErbB tyrosine kinase receptors which are implicated in breast cancer pathogenesis .\\nHere we show paradoxically that EGF enhanced the OSM-induced inhibition of proliferation and induction of cellular differentiation in both estrogen receptor positive and negative breast cancer cells .\\nThis functional synergism was also seen with heregulin but not SCF , PDGF or IGF-1 , indicating that it was specific to EGF-related growth factors .\\nImmunoprecipitation experiments revealed that gp130 was constitutively associated with ErbB-2 and ErbB-3 .\\nThere was a similar association between the OSMRbeta and ErbB-2 .\\nFurthermore , EGF unexpectedly induced tyrosine phosphorylation of gp130 .\\nWe show that OSM induced phosphorylation of STAT3 .\\nBoth OSM and EGF activated the p42/44 MAP kinases , but while the MEK inhibitor , PD98059 , ablated the OSM-induced inhibition , it only partially ablated the inhibitory effects of OSM plus EGF .\\nThus , we have demonstrated that the receptors and signalling pathways of two apparently unrelated growth factors were intimately linked , resulting in an unexpected biological effect .\\nThis provides a new mechanism for generating signalling diversity and has potential clinical implications in breast cancer .\\n',\n",
       "  'labels': 1},\n",
       " {'text': 'p53 is a tumor suppressor gene that is mutated in many human malignancies , including gastric cancer .\\nIt remains unclear why patients with germ-line p53 mutations ( i.e. , Li-Fraumeni syndrome ) are not at increased risk for gastric adenocarcinoma , despite the fact that they show a high rate of many other tumors .\\nFurthermore , the precise relationship between germ-line p53 mutations and the response to chronic bacterial infections ( such as Helicobacter spp. ) has not been investigated .\\nTo assess the role of germ-line p53 deletions in modulating the progression to gastric cancer , p53(+/-) and wild-type ( WT ) C57BL/6 mice were infected with H. felis .\\nThe gastric pathology and immune response in these two groups of mice were analyzed for up to 15 months postinfection .\\nThe gastric fundus and antrum were evaluated independently using a 0-4 scale to score inflammation , parietal and chief cell loss , mucus metaplasia , and helicobacter colonization .\\nNonparametric statistical analysis was performed to determine the effects of p53(+/-) , infection status , and postinoculation ( p.i. ) time on inflammation , preneoplastic changes , invasive lesions , and helicobacter colonization. mRNA expression for gammaIFN , interleukin ( IL)-1 , IL-10 , and IL-4 was quantified by PCR .\\nSera were also evaluated for H. felis antibody by ELISA .\\nAntral inflammation increased significantly with time in infected mice .\\nThere was a significant , protective effect on the development of preneoplastic fundic lesions and invasive carcinoma attributable to the deletion of one p53 allele ( P < 0.05 ) .\\nSubmucosal invasive foci were observed in 9 of 11 WT-infected mice ranging from 13 to 15 months p.i. ; invasion of adjacent submucosal blood vessels by glandular epithelia also was present in 5 of these mice .\\nNone of these lesions were observed in 33 p53(+/-) mice , infected or not , at any time p.i. p53(+/-) mice had significantly higher helicobacter colonization consistent with a Th2 host response .\\nIn sera from WT mice , IgG2a , considered a proinflammatory Th1 response , continued to rise throughout the 15-month study ( P < 0.004 ) .\\nIn contrast , IgG2a levels of the p53(+/-) mice were 50-60% lower than those of the WT mice at each time point ( P range , <0.012 to 0.002 ) and did not progress in magnitude between 12 and 15 months of chronic H. felis infection ( P = 0.167). mRNA levels for gammaIFN and IL-1 were significantly up-regulated in WT mice infected with H. felis ( P < 0.05 ) but were slightly elevated or were at background levels in p53(+/-) mice .\\nIL-10 and IL-4 mRNA expression was not significantly different from control samples .\\nOur results support the hypothesis that germ-line deletion of one p53 allele results in a down-regulated Th1 response to gastric helicobacter infection , possibly because of T-cell senescence , which may indirectly protect against the development of gastric cancer and other epithelial-derived neoplasms associated with chronic inflammation .\\n',\n",
       "  'labels': 24}]"
      ]
     },
     "execution_count": 7,
     "metadata": {},
     "output_type": "execute_result"
    }
   ],
   "source": [
    "\n",
    "df = hoc.iloc[:10]\n",
    "df['text'] = df['TEXT'].astype(str)\n",
    "df['labels'] = df['LABEL']\n",
    "# self.n_classes = len(df['labels'].unique())\n",
    "df1 = df[['text','labels']].to_dict(\"records\")\n",
    "df1"
   ]
  },
  {
   "cell_type": "code",
   "execution_count": 7,
   "metadata": {},
   "outputs": [
    {
     "name": "stdout",
     "output_type": "stream",
     "text": [
      "<class 'pandas.core.frame.DataFrame'>\n",
      "Int64Index: 1852 entries, 0 to 1851\n",
      "Data columns (total 2 columns):\n",
      " #   Column  Non-Null Count  Dtype \n",
      "---  ------  --------------  ----- \n",
      " 0   TEXT    1852 non-null   object\n",
      " 1   LABEL   1852 non-null   int64 \n",
      "dtypes: int64(1), object(1)\n",
      "memory usage: 43.4+ KB\n"
     ]
    }
   ],
   "source": [
    "hoc.info()"
   ]
  },
  {
   "cell_type": "code",
   "execution_count": 10,
   "metadata": {},
   "outputs": [
    {
     "data": {
      "text/html": [
       "<div>\n",
       "<style scoped>\n",
       "    .dataframe tbody tr th:only-of-type {\n",
       "        vertical-align: middle;\n",
       "    }\n",
       "\n",
       "    .dataframe tbody tr th {\n",
       "        vertical-align: top;\n",
       "    }\n",
       "\n",
       "    .dataframe thead th {\n",
       "        text-align: right;\n",
       "    }\n",
       "</style>\n",
       "<table border=\"1\" class=\"dataframe\">\n",
       "  <thead>\n",
       "    <tr style=\"text-align: right;\">\n",
       "      <th></th>\n",
       "      <th>TEXT</th>\n",
       "      <th>LABEL</th>\n",
       "    </tr>\n",
       "  </thead>\n",
       "  <tbody>\n",
       "    <tr>\n",
       "      <th>0</th>\n",
       "      <td>catheterization laboratory events hospital out...</td>\n",
       "      <td>4</td>\n",
       "    </tr>\n",
       "    <tr>\n",
       "      <th>1</th>\n",
       "      <td>renal abscess children. three cases renal absc...</td>\n",
       "      <td>5</td>\n",
       "    </tr>\n",
       "    <tr>\n",
       "      <th>2</th>\n",
       "      <td>hyperplastic polyps seen sigmoidoscopy markers...</td>\n",
       "      <td>2</td>\n",
       "    </tr>\n",
       "    <tr>\n",
       "      <th>3</th>\n",
       "      <td>subclavian artery innominate vein fistula inse...</td>\n",
       "      <td>5</td>\n",
       "    </tr>\n",
       "    <tr>\n",
       "      <th>4</th>\n",
       "      <td>effect local inhibition gamma-aminobutyric aci...</td>\n",
       "      <td>4</td>\n",
       "    </tr>\n",
       "    <tr>\n",
       "      <th>5</th>\n",
       "      <td>infection chronic epidural catheterization: di...</td>\n",
       "      <td>1</td>\n",
       "    </tr>\n",
       "    <tr>\n",
       "      <th>6</th>\n",
       "      <td>mediastinal tracheostomy using pectoralis majo...</td>\n",
       "      <td>5</td>\n",
       "    </tr>\n",
       "    <tr>\n",
       "      <th>7</th>\n",
       "      <td>tumefactive fibroinflammatory lesion extremity...</td>\n",
       "      <td>5</td>\n",
       "    </tr>\n",
       "    <tr>\n",
       "      <th>8</th>\n",
       "      <td>multiple representations contribute body knowl...</td>\n",
       "      <td>3</td>\n",
       "    </tr>\n",
       "    <tr>\n",
       "      <th>9</th>\n",
       "      <td>increasing asthma prevalence rural zealand ado...</td>\n",
       "      <td>5</td>\n",
       "    </tr>\n",
       "  </tbody>\n",
       "</table>\n",
       "</div>"
      ],
      "text/plain": [
       "                                                TEXT  LABEL\n",
       "0  catheterization laboratory events hospital out...      4\n",
       "1  renal abscess children. three cases renal absc...      5\n",
       "2  hyperplastic polyps seen sigmoidoscopy markers...      2\n",
       "3  subclavian artery innominate vein fistula inse...      5\n",
       "4  effect local inhibition gamma-aminobutyric aci...      4\n",
       "5  infection chronic epidural catheterization: di...      1\n",
       "6  mediastinal tracheostomy using pectoralis majo...      5\n",
       "7  tumefactive fibroinflammatory lesion extremity...      5\n",
       "8  multiple representations contribute body knowl...      3\n",
       "9  increasing asthma prevalence rural zealand ado...      5"
      ]
     },
     "execution_count": 10,
     "metadata": {},
     "output_type": "execute_result"
    }
   ],
   "source": [
    "mtc = pd.read_csv(\"mtc.csv\", sep='\\t', index_col=0)\n",
    "\n",
    "mtc.head(10)"
   ]
  },
  {
   "cell_type": "code",
   "execution_count": 9,
   "metadata": {},
   "outputs": [
    {
     "name": "stdout",
     "output_type": "stream",
     "text": [
      "<class 'pandas.core.frame.DataFrame'>\n",
      "Int64Index: 14438 entries, 0 to 14437\n",
      "Data columns (total 2 columns):\n",
      " #   Column  Non-Null Count  Dtype \n",
      "---  ------  --------------  ----- \n",
      " 0   TEXT    14438 non-null  object\n",
      " 1   LABEL   14438 non-null  int64 \n",
      "dtypes: int64(1), object(1)\n",
      "memory usage: 338.4+ KB\n"
     ]
    }
   ],
   "source": [
    "mtc.info()"
   ]
  },
  {
   "cell_type": "code",
   "execution_count": null,
   "metadata": {},
   "outputs": [],
   "source": []
  }
 ],
 "metadata": {
  "kernelspec": {
   "display_name": "Python 3",
   "language": "python",
   "name": "python3"
  },
  "language_info": {
   "codemirror_mode": {
    "name": "ipython",
    "version": 3
   },
   "file_extension": ".py",
   "mimetype": "text/x-python",
   "name": "python",
   "nbconvert_exporter": "python",
   "pygments_lexer": "ipython3",
   "version": "3.8.5"
  }
 },
 "nbformat": 4,
 "nbformat_minor": 4
}
